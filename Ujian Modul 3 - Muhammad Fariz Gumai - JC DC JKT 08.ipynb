{
 "cells": [
  {
   "cell_type": "code",
   "execution_count": 12,
   "metadata": {
    "ExecuteTime": {
     "end_time": "2020-06-12T06:16:47.504025Z",
     "start_time": "2020-06-12T06:16:47.494032Z"
    }
   },
   "outputs": [],
   "source": [
    "import numpy as np\n",
    "import pandas as pd\n",
    "import matplotlib.pyplot as plt\n",
    "import seaborn as sns\n",
    "\n",
    "from sklearn.model_selection import train_test_split\n",
    "from sklearn.pipeline import Pipeline\n",
    "from sklearn.compose import ColumnTransformer\n",
    "\n",
    "from jcopml.pipeline import num_pipe, cat_pipe\n",
    "from jcopml.utils import save_model, load_model\n",
    "from jcopml.plot import plot_missing_value\n",
    "from jcopml.feature_importance import mean_score_decrease"
   ]
  },
  {
   "cell_type": "code",
   "execution_count": 134,
   "metadata": {
    "ExecuteTime": {
     "end_time": "2020-06-12T09:10:03.460838Z",
     "start_time": "2020-06-12T09:10:02.804244Z"
    }
   },
   "outputs": [
    {
     "data": {
      "text/html": [
       "<div>\n",
       "<style scoped>\n",
       "    .dataframe tbody tr th:only-of-type {\n",
       "        vertical-align: middle;\n",
       "    }\n",
       "\n",
       "    .dataframe tbody tr th {\n",
       "        vertical-align: top;\n",
       "    }\n",
       "\n",
       "    .dataframe thead th {\n",
       "        text-align: right;\n",
       "    }\n",
       "</style>\n",
       "<table border=\"1\" class=\"dataframe\">\n",
       "  <thead>\n",
       "    <tr style=\"text-align: right;\">\n",
       "      <th></th>\n",
       "      <th>hotel</th>\n",
       "      <th>is_canceled</th>\n",
       "      <th>lead_time</th>\n",
       "      <th>arrival_date_year</th>\n",
       "      <th>arrival_date_month</th>\n",
       "      <th>arrival_date_week_number</th>\n",
       "      <th>arrival_date_day_of_month</th>\n",
       "      <th>stays_in_weekend_nights</th>\n",
       "      <th>stays_in_week_nights</th>\n",
       "      <th>adults</th>\n",
       "      <th>...</th>\n",
       "      <th>deposit_type</th>\n",
       "      <th>agent</th>\n",
       "      <th>company</th>\n",
       "      <th>days_in_waiting_list</th>\n",
       "      <th>customer_type</th>\n",
       "      <th>adr</th>\n",
       "      <th>required_car_parking_spaces</th>\n",
       "      <th>total_of_special_requests</th>\n",
       "      <th>reservation_status</th>\n",
       "      <th>reservation_status_date</th>\n",
       "    </tr>\n",
       "  </thead>\n",
       "  <tbody>\n",
       "    <tr>\n",
       "      <th>0</th>\n",
       "      <td>Resort Hotel</td>\n",
       "      <td>0</td>\n",
       "      <td>342</td>\n",
       "      <td>2015</td>\n",
       "      <td>July</td>\n",
       "      <td>27</td>\n",
       "      <td>1</td>\n",
       "      <td>0</td>\n",
       "      <td>0</td>\n",
       "      <td>2</td>\n",
       "      <td>...</td>\n",
       "      <td>No Deposit</td>\n",
       "      <td>NaN</td>\n",
       "      <td>NaN</td>\n",
       "      <td>0</td>\n",
       "      <td>Transient</td>\n",
       "      <td>0.0</td>\n",
       "      <td>0</td>\n",
       "      <td>0</td>\n",
       "      <td>Check-Out</td>\n",
       "      <td>2015-07-01</td>\n",
       "    </tr>\n",
       "    <tr>\n",
       "      <th>1</th>\n",
       "      <td>Resort Hotel</td>\n",
       "      <td>0</td>\n",
       "      <td>737</td>\n",
       "      <td>2015</td>\n",
       "      <td>July</td>\n",
       "      <td>27</td>\n",
       "      <td>1</td>\n",
       "      <td>0</td>\n",
       "      <td>0</td>\n",
       "      <td>2</td>\n",
       "      <td>...</td>\n",
       "      <td>No Deposit</td>\n",
       "      <td>NaN</td>\n",
       "      <td>NaN</td>\n",
       "      <td>0</td>\n",
       "      <td>Transient</td>\n",
       "      <td>0.0</td>\n",
       "      <td>0</td>\n",
       "      <td>0</td>\n",
       "      <td>Check-Out</td>\n",
       "      <td>2015-07-01</td>\n",
       "    </tr>\n",
       "    <tr>\n",
       "      <th>2</th>\n",
       "      <td>Resort Hotel</td>\n",
       "      <td>0</td>\n",
       "      <td>7</td>\n",
       "      <td>2015</td>\n",
       "      <td>July</td>\n",
       "      <td>27</td>\n",
       "      <td>1</td>\n",
       "      <td>0</td>\n",
       "      <td>1</td>\n",
       "      <td>1</td>\n",
       "      <td>...</td>\n",
       "      <td>No Deposit</td>\n",
       "      <td>NaN</td>\n",
       "      <td>NaN</td>\n",
       "      <td>0</td>\n",
       "      <td>Transient</td>\n",
       "      <td>75.0</td>\n",
       "      <td>0</td>\n",
       "      <td>0</td>\n",
       "      <td>Check-Out</td>\n",
       "      <td>2015-07-02</td>\n",
       "    </tr>\n",
       "    <tr>\n",
       "      <th>3</th>\n",
       "      <td>Resort Hotel</td>\n",
       "      <td>0</td>\n",
       "      <td>13</td>\n",
       "      <td>2015</td>\n",
       "      <td>July</td>\n",
       "      <td>27</td>\n",
       "      <td>1</td>\n",
       "      <td>0</td>\n",
       "      <td>1</td>\n",
       "      <td>1</td>\n",
       "      <td>...</td>\n",
       "      <td>No Deposit</td>\n",
       "      <td>304.0</td>\n",
       "      <td>NaN</td>\n",
       "      <td>0</td>\n",
       "      <td>Transient</td>\n",
       "      <td>75.0</td>\n",
       "      <td>0</td>\n",
       "      <td>0</td>\n",
       "      <td>Check-Out</td>\n",
       "      <td>2015-07-02</td>\n",
       "    </tr>\n",
       "    <tr>\n",
       "      <th>4</th>\n",
       "      <td>Resort Hotel</td>\n",
       "      <td>0</td>\n",
       "      <td>14</td>\n",
       "      <td>2015</td>\n",
       "      <td>July</td>\n",
       "      <td>27</td>\n",
       "      <td>1</td>\n",
       "      <td>0</td>\n",
       "      <td>2</td>\n",
       "      <td>2</td>\n",
       "      <td>...</td>\n",
       "      <td>No Deposit</td>\n",
       "      <td>240.0</td>\n",
       "      <td>NaN</td>\n",
       "      <td>0</td>\n",
       "      <td>Transient</td>\n",
       "      <td>98.0</td>\n",
       "      <td>0</td>\n",
       "      <td>1</td>\n",
       "      <td>Check-Out</td>\n",
       "      <td>2015-07-03</td>\n",
       "    </tr>\n",
       "  </tbody>\n",
       "</table>\n",
       "<p>5 rows × 32 columns</p>\n",
       "</div>"
      ],
      "text/plain": [
       "          hotel  is_canceled  lead_time  arrival_date_year arrival_date_month  \\\n",
       "0  Resort Hotel            0        342               2015               July   \n",
       "1  Resort Hotel            0        737               2015               July   \n",
       "2  Resort Hotel            0          7               2015               July   \n",
       "3  Resort Hotel            0         13               2015               July   \n",
       "4  Resort Hotel            0         14               2015               July   \n",
       "\n",
       "   arrival_date_week_number  arrival_date_day_of_month  \\\n",
       "0                        27                          1   \n",
       "1                        27                          1   \n",
       "2                        27                          1   \n",
       "3                        27                          1   \n",
       "4                        27                          1   \n",
       "\n",
       "   stays_in_weekend_nights  stays_in_week_nights  adults  ...  deposit_type  \\\n",
       "0                        0                     0       2  ...    No Deposit   \n",
       "1                        0                     0       2  ...    No Deposit   \n",
       "2                        0                     1       1  ...    No Deposit   \n",
       "3                        0                     1       1  ...    No Deposit   \n",
       "4                        0                     2       2  ...    No Deposit   \n",
       "\n",
       "   agent company days_in_waiting_list customer_type   adr  \\\n",
       "0    NaN     NaN                    0     Transient   0.0   \n",
       "1    NaN     NaN                    0     Transient   0.0   \n",
       "2    NaN     NaN                    0     Transient  75.0   \n",
       "3  304.0     NaN                    0     Transient  75.0   \n",
       "4  240.0     NaN                    0     Transient  98.0   \n",
       "\n",
       "   required_car_parking_spaces  total_of_special_requests  reservation_status  \\\n",
       "0                            0                          0           Check-Out   \n",
       "1                            0                          0           Check-Out   \n",
       "2                            0                          0           Check-Out   \n",
       "3                            0                          0           Check-Out   \n",
       "4                            0                          1           Check-Out   \n",
       "\n",
       "  reservation_status_date  \n",
       "0              2015-07-01  \n",
       "1              2015-07-01  \n",
       "2              2015-07-02  \n",
       "3              2015-07-02  \n",
       "4              2015-07-03  \n",
       "\n",
       "[5 rows x 32 columns]"
      ]
     },
     "execution_count": 134,
     "metadata": {},
     "output_type": "execute_result"
    }
   ],
   "source": [
    "df_raw = pd.read_csv(\"hotel_bookings.csv\")\n",
    "df = df_raw.iloc[:3001]\n",
    "df.head()"
   ]
  },
  {
   "cell_type": "code",
   "execution_count": 135,
   "metadata": {
    "ExecuteTime": {
     "end_time": "2020-06-12T09:10:03.494816Z",
     "start_time": "2020-06-12T09:10:03.463835Z"
    }
   },
   "outputs": [
    {
     "name": "stdout",
     "output_type": "stream",
     "text": [
      "<class 'pandas.core.frame.DataFrame'>\n",
      "RangeIndex: 3001 entries, 0 to 3000\n",
      "Data columns (total 32 columns):\n",
      " #   Column                          Non-Null Count  Dtype  \n",
      "---  ------                          --------------  -----  \n",
      " 0   hotel                           3001 non-null   object \n",
      " 1   is_canceled                     3001 non-null   int64  \n",
      " 2   lead_time                       3001 non-null   int64  \n",
      " 3   arrival_date_year               3001 non-null   int64  \n",
      " 4   arrival_date_month              3001 non-null   object \n",
      " 5   arrival_date_week_number        3001 non-null   int64  \n",
      " 6   arrival_date_day_of_month       3001 non-null   int64  \n",
      " 7   stays_in_weekend_nights         3001 non-null   int64  \n",
      " 8   stays_in_week_nights            3001 non-null   int64  \n",
      " 9   adults                          3001 non-null   int64  \n",
      " 10  children                        3001 non-null   float64\n",
      " 11  babies                          3001 non-null   int64  \n",
      " 12  meal                            3001 non-null   object \n",
      " 13  country                         3000 non-null   object \n",
      " 14  market_segment                  3001 non-null   object \n",
      " 15  distribution_channel            3001 non-null   object \n",
      " 16  is_repeated_guest               3001 non-null   int64  \n",
      " 17  previous_cancellations          3001 non-null   int64  \n",
      " 18  previous_bookings_not_canceled  3001 non-null   int64  \n",
      " 19  reserved_room_type              3001 non-null   object \n",
      " 20  assigned_room_type              3001 non-null   object \n",
      " 21  booking_changes                 3001 non-null   int64  \n",
      " 22  deposit_type                    3001 non-null   object \n",
      " 23  agent                           2536 non-null   float64\n",
      " 24  company                         123 non-null    float64\n",
      " 25  days_in_waiting_list            3001 non-null   int64  \n",
      " 26  customer_type                   3001 non-null   object \n",
      " 27  adr                             3001 non-null   float64\n",
      " 28  required_car_parking_spaces     3001 non-null   int64  \n",
      " 29  total_of_special_requests       3001 non-null   int64  \n",
      " 30  reservation_status              3001 non-null   object \n",
      " 31  reservation_status_date         3001 non-null   object \n",
      "dtypes: float64(4), int64(16), object(12)\n",
      "memory usage: 750.4+ KB\n"
     ]
    }
   ],
   "source": [
    "df.info()"
   ]
  },
  {
   "cell_type": "code",
   "execution_count": 136,
   "metadata": {
    "ExecuteTime": {
     "end_time": "2020-06-12T09:10:03.506809Z",
     "start_time": "2020-06-12T09:10:03.498813Z"
    }
   },
   "outputs": [
    {
     "name": "stderr",
     "output_type": "stream",
     "text": [
      "C:\\Users\\Sony Vaio\\anaconda3\\envs\\MyEnvironment\\lib\\site-packages\\pandas\\core\\frame.py:3997: SettingWithCopyWarning: \n",
      "A value is trying to be set on a copy of a slice from a DataFrame\n",
      "\n",
      "See the caveats in the documentation: https://pandas.pydata.org/pandas-docs/stable/user_guide/indexing.html#returning-a-view-versus-a-copy\n",
      "  errors=errors,\n"
     ]
    }
   ],
   "source": [
    "#karena company banyak null, maka di drop\n",
    "df.drop(columns='company',inplace=True)"
   ]
  },
  {
   "cell_type": "code",
   "execution_count": 137,
   "metadata": {
    "ExecuteTime": {
     "end_time": "2020-06-12T09:10:03.538789Z",
     "start_time": "2020-06-12T09:10:03.509807Z"
    }
   },
   "outputs": [],
   "source": [
    "#karena ada satu yang nan, drop row yang memiliki country == nan\n",
    "df.drop(index=df[df['country'].isna()==True].index, inplace=True)"
   ]
  },
  {
   "cell_type": "code",
   "execution_count": 138,
   "metadata": {
    "ExecuteTime": {
     "end_time": "2020-06-12T09:10:03.578770Z",
     "start_time": "2020-06-12T09:10:03.542787Z"
    },
    "scrolled": true
   },
   "outputs": [
    {
     "name": "stdout",
     "output_type": "stream",
     "text": [
      "hotel with n unique 1\n",
      "is_canceled with n unique 2\n",
      "lead_time with n unique 229\n",
      "arrival_date_year with n unique 1\n",
      "arrival_date_month with n unique 5\n",
      "arrival_date_week_number with n unique 20\n",
      "arrival_date_day_of_month with n unique 31\n",
      "stays_in_weekend_nights with n unique 10\n",
      "stays_in_week_nights with n unique 18\n",
      "adults with n unique 14\n",
      "children with n unique 4\n",
      "babies with n unique 3\n",
      "meal with n unique 4\n",
      "country with n unique 53\n",
      "market_segment with n unique 6\n",
      "distribution_channel with n unique 3\n",
      "is_repeated_guest with n unique 1\n",
      "previous_cancellations with n unique 1\n",
      "previous_bookings_not_canceled with n unique 1\n",
      "reserved_room_type with n unique 8\n",
      "assigned_room_type with n unique 9\n",
      "booking_changes with n unique 8\n",
      "deposit_type with n unique 3\n",
      "agent with n unique 66\n",
      "days_in_waiting_list with n unique 3\n",
      "customer_type with n unique 4\n",
      "adr with n unique 1048\n",
      "required_car_parking_spaces with n unique 3\n",
      "total_of_special_requests with n unique 5\n",
      "reservation_status with n unique 3\n",
      "reservation_status_date with n unique 215\n"
     ]
    }
   ],
   "source": [
    "#melihat bentuk data secara keseluruhan\n",
    "\n",
    "for i in df.columns:\n",
    "    print(i + ' with n unique ' + str(df[i].nunique()))"
   ]
  },
  {
   "cell_type": "code",
   "execution_count": 139,
   "metadata": {
    "ExecuteTime": {
     "end_time": "2020-06-12T09:10:04.561155Z",
     "start_time": "2020-06-12T09:10:03.843602Z"
    }
   },
   "outputs": [
    {
     "name": "stderr",
     "output_type": "stream",
     "text": [
      "C:\\Users\\Sony Vaio\\anaconda3\\envs\\MyEnvironment\\lib\\site-packages\\ipykernel_launcher.py:10: SettingWithCopyWarning: \n",
      "A value is trying to be set on a copy of a slice from a DataFrame.\n",
      "Try using .loc[row_indexer,col_indexer] = value instead\n",
      "\n",
      "See the caveats in the documentation: https://pandas.pydata.org/pandas-docs/stable/user_guide/indexing.html#returning-a-view-versus-a-copy\n",
      "  # Remove the CWD from sys.path while we load stuff.\n"
     ]
    }
   ],
   "source": [
    "#menggabungkan kolom arrival date\n",
    "\n",
    "def arrival_date(df):\n",
    "    month = {'January':'01', 'February':'02', 'March':'03', 'April':'04', 'May':'05', 'June':'06', 'July':'07', 'August':'08', 'September':'09', 'October':'10', 'November':'11', 'December':'12'}\n",
    "    for i,j in month.items():\n",
    "        if df['arrival_date_month'] == i:\n",
    "            a = str(df['arrival_date_year']) + '-' + j + '-' + str(df['arrival_date_day_of_month'])\n",
    "            return a\n",
    "        \n",
    "df['arrival_date'] = df.apply(arrival_date, axis=1)"
   ]
  },
  {
   "cell_type": "code",
   "execution_count": 140,
   "metadata": {
    "ExecuteTime": {
     "end_time": "2020-06-12T09:10:04.582143Z",
     "start_time": "2020-06-12T09:10:04.564154Z"
    }
   },
   "outputs": [
    {
     "name": "stderr",
     "output_type": "stream",
     "text": [
      "C:\\Users\\Sony Vaio\\anaconda3\\envs\\MyEnvironment\\lib\\site-packages\\ipykernel_launcher.py:3: SettingWithCopyWarning: \n",
      "A value is trying to be set on a copy of a slice from a DataFrame.\n",
      "Try using .loc[row_indexer,col_indexer] = value instead\n",
      "\n",
      "See the caveats in the documentation: https://pandas.pydata.org/pandas-docs/stable/user_guide/indexing.html#returning-a-view-versus-a-copy\n",
      "  This is separate from the ipykernel package so we can avoid doing imports until\n",
      "C:\\Users\\Sony Vaio\\anaconda3\\envs\\MyEnvironment\\lib\\site-packages\\ipykernel_launcher.py:4: SettingWithCopyWarning: \n",
      "A value is trying to be set on a copy of a slice from a DataFrame.\n",
      "Try using .loc[row_indexer,col_indexer] = value instead\n",
      "\n",
      "See the caveats in the documentation: https://pandas.pydata.org/pandas-docs/stable/user_guide/indexing.html#returning-a-view-versus-a-copy\n",
      "  after removing the cwd from sys.path.\n"
     ]
    }
   ],
   "source": [
    "#mengubah format data menjadi format datetime\n",
    "\n",
    "df['reservation_status_date'] = pd.to_datetime(df['reservation_status_date'], yearfirst=True)\n",
    "df['arrival_date'] = pd.to_datetime(df['arrival_date'], yearfirst=True)"
   ]
  },
  {
   "cell_type": "code",
   "execution_count": 141,
   "metadata": {
    "ExecuteTime": {
     "end_time": "2020-06-12T09:10:04.636121Z",
     "start_time": "2020-06-12T09:10:04.630121Z"
    }
   },
   "outputs": [
    {
     "name": "stderr",
     "output_type": "stream",
     "text": [
      "C:\\Users\\Sony Vaio\\anaconda3\\envs\\MyEnvironment\\lib\\site-packages\\pandas\\core\\generic.py:6245: SettingWithCopyWarning: \n",
      "A value is trying to be set on a copy of a slice from a DataFrame\n",
      "\n",
      "See the caveats in the documentation: https://pandas.pydata.org/pandas-docs/stable/user_guide/indexing.html#returning-a-view-versus-a-copy\n",
      "  self._update_inplace(new_data)\n"
     ]
    }
   ],
   "source": [
    "# disini saya membuat kategori agent baru yaitu 0, dimana disini saya menganggap booking hotel dilakukan tanpa melalui agen\n",
    "\n",
    "df['agent'].fillna(value=0, inplace=True)"
   ]
  },
  {
   "cell_type": "code",
   "execution_count": 142,
   "metadata": {
    "ExecuteTime": {
     "end_time": "2020-06-12T09:10:04.783028Z",
     "start_time": "2020-06-12T09:10:04.777031Z"
    }
   },
   "outputs": [
    {
     "name": "stderr",
     "output_type": "stream",
     "text": [
      "C:\\Users\\Sony Vaio\\anaconda3\\envs\\MyEnvironment\\lib\\site-packages\\ipykernel_launcher.py:1: SettingWithCopyWarning: \n",
      "A value is trying to be set on a copy of a slice from a DataFrame.\n",
      "Try using .loc[row_indexer,col_indexer] = value instead\n",
      "\n",
      "See the caveats in the documentation: https://pandas.pydata.org/pandas-docs/stable/user_guide/indexing.html#returning-a-view-versus-a-copy\n",
      "  \"\"\"Entry point for launching an IPython kernel.\n"
     ]
    }
   ],
   "source": [
    "df['stay_total'] = df['stays_in_week_nights'] + df['stays_in_weekend_nights']"
   ]
  },
  {
   "cell_type": "code",
   "execution_count": 143,
   "metadata": {
    "ExecuteTime": {
     "end_time": "2020-06-12T09:10:04.958918Z",
     "start_time": "2020-06-12T09:10:04.923940Z"
    },
    "scrolled": true
   },
   "outputs": [
    {
     "name": "stdout",
     "output_type": "stream",
     "text": [
      "<class 'pandas.core.frame.DataFrame'>\n",
      "Int64Index: 3000 entries, 0 to 3000\n",
      "Data columns (total 33 columns):\n",
      " #   Column                          Non-Null Count  Dtype         \n",
      "---  ------                          --------------  -----         \n",
      " 0   hotel                           3000 non-null   object        \n",
      " 1   is_canceled                     3000 non-null   int64         \n",
      " 2   lead_time                       3000 non-null   int64         \n",
      " 3   arrival_date_year               3000 non-null   int64         \n",
      " 4   arrival_date_month              3000 non-null   object        \n",
      " 5   arrival_date_week_number        3000 non-null   int64         \n",
      " 6   arrival_date_day_of_month       3000 non-null   int64         \n",
      " 7   stays_in_weekend_nights         3000 non-null   int64         \n",
      " 8   stays_in_week_nights            3000 non-null   int64         \n",
      " 9   adults                          3000 non-null   int64         \n",
      " 10  children                        3000 non-null   float64       \n",
      " 11  babies                          3000 non-null   int64         \n",
      " 12  meal                            3000 non-null   object        \n",
      " 13  country                         3000 non-null   object        \n",
      " 14  market_segment                  3000 non-null   object        \n",
      " 15  distribution_channel            3000 non-null   object        \n",
      " 16  is_repeated_guest               3000 non-null   int64         \n",
      " 17  previous_cancellations          3000 non-null   int64         \n",
      " 18  previous_bookings_not_canceled  3000 non-null   int64         \n",
      " 19  reserved_room_type              3000 non-null   object        \n",
      " 20  assigned_room_type              3000 non-null   object        \n",
      " 21  booking_changes                 3000 non-null   int64         \n",
      " 22  deposit_type                    3000 non-null   object        \n",
      " 23  agent                           3000 non-null   float64       \n",
      " 24  days_in_waiting_list            3000 non-null   int64         \n",
      " 25  customer_type                   3000 non-null   object        \n",
      " 26  adr                             3000 non-null   float64       \n",
      " 27  required_car_parking_spaces     3000 non-null   int64         \n",
      " 28  total_of_special_requests       3000 non-null   int64         \n",
      " 29  reservation_status              3000 non-null   object        \n",
      " 30  reservation_status_date         3000 non-null   datetime64[ns]\n",
      " 31  arrival_date                    3000 non-null   datetime64[ns]\n",
      " 32  stay_total                      3000 non-null   int64         \n",
      "dtypes: datetime64[ns](2), float64(3), int64(17), object(11)\n",
      "memory usage: 796.9+ KB\n"
     ]
    }
   ],
   "source": [
    "df.info()"
   ]
  },
  {
   "cell_type": "markdown",
   "metadata": {},
   "source": [
    "## EDA"
   ]
  },
  {
   "cell_type": "code",
   "execution_count": 144,
   "metadata": {
    "ExecuteTime": {
     "end_time": "2020-06-12T09:10:06.097647Z",
     "start_time": "2020-06-12T09:10:05.690895Z"
    }
   },
   "outputs": [
    {
     "data": {
      "text/plain": [
       "<matplotlib.axes._subplots.AxesSubplot at 0x22d07757448>"
      ]
     },
     "execution_count": 144,
     "metadata": {},
     "output_type": "execute_result"
    },
    {
     "data": {
      "image/png": "[encoded data removed]",
      "text/plain": [
       "<Figure size 720x576 with 1 Axes>"
      ]
     },
     "metadata": {},
     "output_type": "display_data"
    }
   ],
   "source": [
    "#disini saya mau melihat jumlah total customer yang canceled dan non_canceled tiap bulannya\n",
    "#dilihat dari hasilnya, bulan agustus adalah bulan yg paling banyak \n",
    "#dicancel jika dibandingkan dengan total customer pada bulan itu (hampir 50-50)\n",
    "\n",
    "plt.figure(figsize =(10,8))\n",
    "plt.title(\"Monthly Customer based on Cancelation\")\n",
    "sns.countplot(data = df,x = \"arrival_date_month\", hue = 'is_canceled')"
   ]
  },
  {
   "cell_type": "code",
   "execution_count": 145,
   "metadata": {
    "ExecuteTime": {
     "end_time": "2020-06-12T09:10:06.643539Z",
     "start_time": "2020-06-12T09:10:06.100645Z"
    }
   },
   "outputs": [
    {
     "data": {
      "text/plain": [
       "Text(0.5, 1.0, 'Customer Type vs Stay Total')"
      ]
     },
     "execution_count": 145,
     "metadata": {},
     "output_type": "execute_result"
    },
    {
     "data": {
      "image/png": "[encoded data removed]",
      "text/plain": [
       "<Figure size 720x576 with 1 Axes>"
      ]
     },
     "metadata": {},
     "output_type": "display_data"
    }
   ],
   "source": [
    "#disini saya melihat persebaran data berdasarkan tipe customer dan lama stay terhadap booking canceled atau tidak\n",
    "#dari data ini dilihat bahwa customer tipe group dgn waktu stay yang lebih lama, cenderung cancel\n",
    "\n",
    "plt.figure(figsize = (10,8))\n",
    "sns.set(style='whitegrid')\n",
    "sns.boxplot(x = \"customer_type\", y = \"stay_total\", data = df, hue = \"is_canceled\")\n",
    "plt.title('Customer Type vs Stay Total')"
   ]
  },
  {
   "cell_type": "code",
   "execution_count": 146,
   "metadata": {
    "ExecuteTime": {
     "end_time": "2020-06-12T09:10:06.657531Z",
     "start_time": "2020-06-12T09:10:06.646538Z"
    }
   },
   "outputs": [
    {
     "name": "stderr",
     "output_type": "stream",
     "text": [
      "C:\\Users\\Sony Vaio\\anaconda3\\envs\\MyEnvironment\\lib\\site-packages\\ipykernel_launcher.py:1: SettingWithCopyWarning: \n",
      "A value is trying to be set on a copy of a slice from a DataFrame.\n",
      "Try using .loc[row_indexer,col_indexer] = value instead\n",
      "\n",
      "See the caveats in the documentation: https://pandas.pydata.org/pandas-docs/stable/user_guide/indexing.html#returning-a-view-versus-a-copy\n",
      "  \"\"\"Entry point for launching an IPython kernel.\n"
     ]
    }
   ],
   "source": [
    "df['adr_person'] = df['adr'] / (df['adults'] + df['children'])"
   ]
  },
  {
   "cell_type": "code",
   "execution_count": 147,
   "metadata": {
    "ExecuteTime": {
     "end_time": "2020-06-12T09:10:08.216432Z",
     "start_time": "2020-06-12T09:10:06.660531Z"
    }
   },
   "outputs": [
    {
     "data": {
      "text/plain": [
       "<matplotlib.axes._subplots.AxesSubplot at 0x22d074f7088>"
      ]
     },
     "execution_count": 147,
     "metadata": {},
     "output_type": "execute_result"
    },
    {
     "data": {
      "image/png": "[encoded data removed]",
      "text/plain": [
       "<Figure size 720x576 with 1 Axes>"
      ]
     },
     "metadata": {},
     "output_type": "display_data"
    }
   ],
   "source": [
    "#disini saya plot harga room per person berdasarkan tipe room\n",
    "#dari sini saya mengetahui bahwa kemungkinan room type I memiliki harga yang lebih murah dibanding room lain\n",
    "#tetapi ketika customer mendapatkan room I dengan harga yang relatif mahal, maka akan cenderung dicancel oleh customer\n",
    "\n",
    "plt.figure(figsize=(10,8))\n",
    "sns.barplot(y='adr_person', x='assigned_room_type',hue='is_canceled', data=df)"
   ]
  },
  {
   "cell_type": "code",
   "execution_count": 148,
   "metadata": {
    "ExecuteTime": {
     "end_time": "2020-06-12T09:10:08.431309Z",
     "start_time": "2020-06-12T09:10:08.219429Z"
    }
   },
   "outputs": [
    {
     "name": "stderr",
     "output_type": "stream",
     "text": [
      "C:\\Users\\Sony Vaio\\anaconda3\\envs\\MyEnvironment\\lib\\site-packages\\ipykernel_launcher.py:7: SettingWithCopyWarning: \n",
      "A value is trying to be set on a copy of a slice from a DataFrame.\n",
      "Try using .loc[row_indexer,col_indexer] = value instead\n",
      "\n",
      "See the caveats in the documentation: https://pandas.pydata.org/pandas-docs/stable/user_guide/indexing.html#returning-a-view-versus-a-copy\n",
      "  import sys\n"
     ]
    }
   ],
   "source": [
    "def room_dif(df):\n",
    "    if df['reserved_room_type'] == df['assigned_room_type']:\n",
    "        return 'No'\n",
    "    else:\n",
    "        return 'Yes'\n",
    "\n",
    "df['room_difference'] = df.apply(room_dif, axis=1)"
   ]
  },
  {
   "cell_type": "code",
   "execution_count": 149,
   "metadata": {
    "ExecuteTime": {
     "end_time": "2020-06-12T09:10:08.738130Z",
     "start_time": "2020-06-12T09:10:08.434308Z"
    }
   },
   "outputs": [
    {
     "data": {
      "text/plain": [
       "<matplotlib.axes._subplots.AxesSubplot at 0x22d07be7a88>"
      ]
     },
     "execution_count": 149,
     "metadata": {},
     "output_type": "execute_result"
    },
    {
     "data": {
      "image/png": "[encoded data removed]",
      "text/plain": [
       "<Figure size 720x576 with 1 Axes>"
      ]
     },
     "metadata": {},
     "output_type": "display_data"
    }
   ],
   "source": [
    "#disini saya mau melihat apakah kecenderungan customer untuk cancel berpengaruh terhadap perbedaan jumlah room yang didapatkan\n",
    "#No = room sesuai yang di booking\n",
    "#Yes = room berbeda dengan yang di booking\n",
    "\n",
    "plt.figure(figsize=(10,8))\n",
    "sns.countplot(data=df, x='room_difference',hue='is_canceled')"
   ]
  },
  {
   "cell_type": "code",
   "execution_count": 150,
   "metadata": {
    "ExecuteTime": {
     "end_time": "2020-06-12T09:10:09.074935Z",
     "start_time": "2020-06-12T09:10:08.741129Z"
    }
   },
   "outputs": [
    {
     "data": {
      "text/plain": [
       "<matplotlib.axes._subplots.AxesSubplot at 0x22d07d2de88>"
      ]
     },
     "execution_count": 150,
     "metadata": {},
     "output_type": "execute_result"
    },
    {
     "data": {
      "image/png": "[encoded data removed]",
      "text/plain": [
       "<Figure size 720x576 with 1 Axes>"
      ]
     },
     "metadata": {},
     "output_type": "display_data"
    }
   ],
   "source": [
    "#disini saya melihat kecenderungan customer untuk cancel berdasarkan tipe deposit\n",
    "#karena data yang digunakan tidak lengkap, maka data customer yang non refund dan refundable tidak tergambarkan\n",
    "\n",
    "plt.figure(figsize=(10,8))\n",
    "plt.title(\"Canceled or not based on repeated guest\")\n",
    "sns.countplot(data = df, x = \"deposit_type\", hue = 'is_canceled')"
   ]
  },
  {
   "cell_type": "markdown",
   "metadata": {},
   "source": [
    "## Model Building and Hyperparameter Tuning"
   ]
  },
  {
   "cell_type": "code",
   "execution_count": 153,
   "metadata": {
    "ExecuteTime": {
     "end_time": "2020-06-12T09:12:19.930258Z",
     "start_time": "2020-06-12T09:12:19.888282Z"
    }
   },
   "outputs": [
    {
     "name": "stdout",
     "output_type": "stream",
     "text": [
      "<class 'pandas.core.frame.DataFrame'>\n",
      "Int64Index: 3000 entries, 0 to 3000\n",
      "Data columns (total 35 columns):\n",
      " #   Column                          Non-Null Count  Dtype         \n",
      "---  ------                          --------------  -----         \n",
      " 0   hotel                           3000 non-null   object        \n",
      " 1   is_canceled                     3000 non-null   int64         \n",
      " 2   lead_time                       3000 non-null   int64         \n",
      " 3   arrival_date_year               3000 non-null   int64         \n",
      " 4   arrival_date_month              3000 non-null   object        \n",
      " 5   arrival_date_week_number        3000 non-null   int64         \n",
      " 6   arrival_date_day_of_month       3000 non-null   int64         \n",
      " 7   stays_in_weekend_nights         3000 non-null   int64         \n",
      " 8   stays_in_week_nights            3000 non-null   int64         \n",
      " 9   adults                          3000 non-null   int64         \n",
      " 10  children                        3000 non-null   float64       \n",
      " 11  babies                          3000 non-null   int64         \n",
      " 12  meal                            3000 non-null   object        \n",
      " 13  country                         3000 non-null   object        \n",
      " 14  market_segment                  3000 non-null   object        \n",
      " 15  distribution_channel            3000 non-null   object        \n",
      " 16  is_repeated_guest               3000 non-null   int64         \n",
      " 17  previous_cancellations          3000 non-null   int64         \n",
      " 18  previous_bookings_not_canceled  3000 non-null   int64         \n",
      " 19  reserved_room_type              3000 non-null   object        \n",
      " 20  assigned_room_type              3000 non-null   object        \n",
      " 21  booking_changes                 3000 non-null   int64         \n",
      " 22  deposit_type                    3000 non-null   object        \n",
      " 23  agent                           3000 non-null   float64       \n",
      " 24  days_in_waiting_list            3000 non-null   int64         \n",
      " 25  customer_type                   3000 non-null   object        \n",
      " 26  adr                             3000 non-null   float64       \n",
      " 27  required_car_parking_spaces     3000 non-null   int64         \n",
      " 28  total_of_special_requests       3000 non-null   int64         \n",
      " 29  reservation_status              3000 non-null   object        \n",
      " 30  reservation_status_date         3000 non-null   datetime64[ns]\n",
      " 31  arrival_date                    3000 non-null   datetime64[ns]\n",
      " 32  stay_total                      3000 non-null   int64         \n",
      " 33  adr_person                      2998 non-null   float64       \n",
      " 34  room_difference                 3000 non-null   object        \n",
      "dtypes: datetime64[ns](2), float64(4), int64(17), object(12)\n",
      "memory usage: 923.8+ KB\n"
     ]
    }
   ],
   "source": [
    "df.info()"
   ]
  },
  {
   "cell_type": "code",
   "execution_count": 183,
   "metadata": {
    "ExecuteTime": {
     "end_time": "2020-06-12T09:37:48.529003Z",
     "start_time": "2020-06-12T09:37:48.507017Z"
    }
   },
   "outputs": [
    {
     "data": {
      "text/plain": [
       "((2400, 24), (600, 24), (2400,), (600,))"
      ]
     },
     "execution_count": 183,
     "metadata": {},
     "output_type": "execute_result"
    }
   ],
   "source": [
    "X = df.drop(columns=['hotel','is_canceled','arrival_date_year','arrival_date_month','arrival_date_week_number','arrival_date_day_of_month',\n",
    "                    'reserved_room_type','assigned_room_type','reservation_status','reservation_status_date','arrival_date'])\n",
    "y = df.is_canceled\n",
    "\n",
    "X_train, X_test, y_train, y_test = train_test_split(X, y, test_size=0.2, stratify=y, random_state=42)\n",
    "X_train.shape, X_test.shape, y_train.shape, y_test.shape"
   ]
  },
  {
   "cell_type": "code",
   "execution_count": 188,
   "metadata": {
    "ExecuteTime": {
     "end_time": "2020-06-12T09:38:19.226997Z",
     "start_time": "2020-06-12T09:38:19.150044Z"
    }
   },
   "outputs": [
    {
     "data": {
      "text/html": [
       "<div>\n",
       "<style scoped>\n",
       "    .dataframe tbody tr th:only-of-type {\n",
       "        vertical-align: middle;\n",
       "    }\n",
       "\n",
       "    .dataframe tbody tr th {\n",
       "        vertical-align: top;\n",
       "    }\n",
       "\n",
       "    .dataframe thead th {\n",
       "        text-align: right;\n",
       "    }\n",
       "</style>\n",
       "<table border=\"1\" class=\"dataframe\">\n",
       "  <thead>\n",
       "    <tr style=\"text-align: right;\">\n",
       "      <th></th>\n",
       "      <th>lead_time</th>\n",
       "      <th>stays_in_weekend_nights</th>\n",
       "      <th>stays_in_week_nights</th>\n",
       "      <th>adults</th>\n",
       "      <th>children</th>\n",
       "      <th>babies</th>\n",
       "      <th>meal</th>\n",
       "      <th>country</th>\n",
       "      <th>market_segment</th>\n",
       "      <th>distribution_channel</th>\n",
       "      <th>...</th>\n",
       "      <th>deposit_type</th>\n",
       "      <th>agent</th>\n",
       "      <th>days_in_waiting_list</th>\n",
       "      <th>customer_type</th>\n",
       "      <th>adr</th>\n",
       "      <th>required_car_parking_spaces</th>\n",
       "      <th>total_of_special_requests</th>\n",
       "      <th>stay_total</th>\n",
       "      <th>adr_person</th>\n",
       "      <th>room_difference</th>\n",
       "    </tr>\n",
       "  </thead>\n",
       "  <tbody>\n",
       "    <tr>\n",
       "      <th>235</th>\n",
       "      <td>44</td>\n",
       "      <td>0</td>\n",
       "      <td>3</td>\n",
       "      <td>2</td>\n",
       "      <td>2.0</td>\n",
       "      <td>0</td>\n",
       "      <td>BB</td>\n",
       "      <td>PRT</td>\n",
       "      <td>Online TA</td>\n",
       "      <td>TA/TO</td>\n",
       "      <td>...</td>\n",
       "      <td>No Deposit</td>\n",
       "      <td>240.0</td>\n",
       "      <td>0</td>\n",
       "      <td>Transient</td>\n",
       "      <td>153.00</td>\n",
       "      <td>0</td>\n",
       "      <td>0</td>\n",
       "      <td>3</td>\n",
       "      <td>38.250</td>\n",
       "      <td>No</td>\n",
       "    </tr>\n",
       "    <tr>\n",
       "      <th>1627</th>\n",
       "      <td>47</td>\n",
       "      <td>2</td>\n",
       "      <td>4</td>\n",
       "      <td>2</td>\n",
       "      <td>0.0</td>\n",
       "      <td>0</td>\n",
       "      <td>BB</td>\n",
       "      <td>GBR</td>\n",
       "      <td>Offline TA/TO</td>\n",
       "      <td>TA/TO</td>\n",
       "      <td>...</td>\n",
       "      <td>No Deposit</td>\n",
       "      <td>8.0</td>\n",
       "      <td>0</td>\n",
       "      <td>Contract</td>\n",
       "      <td>79.50</td>\n",
       "      <td>0</td>\n",
       "      <td>0</td>\n",
       "      <td>6</td>\n",
       "      <td>39.750</td>\n",
       "      <td>No</td>\n",
       "    </tr>\n",
       "    <tr>\n",
       "      <th>1572</th>\n",
       "      <td>4</td>\n",
       "      <td>2</td>\n",
       "      <td>2</td>\n",
       "      <td>2</td>\n",
       "      <td>0.0</td>\n",
       "      <td>0</td>\n",
       "      <td>HB</td>\n",
       "      <td>PRT</td>\n",
       "      <td>Online TA</td>\n",
       "      <td>TA/TO</td>\n",
       "      <td>...</td>\n",
       "      <td>No Deposit</td>\n",
       "      <td>240.0</td>\n",
       "      <td>0</td>\n",
       "      <td>Transient</td>\n",
       "      <td>151.25</td>\n",
       "      <td>0</td>\n",
       "      <td>2</td>\n",
       "      <td>4</td>\n",
       "      <td>75.625</td>\n",
       "      <td>No</td>\n",
       "    </tr>\n",
       "    <tr>\n",
       "      <th>1767</th>\n",
       "      <td>120</td>\n",
       "      <td>2</td>\n",
       "      <td>3</td>\n",
       "      <td>2</td>\n",
       "      <td>0.0</td>\n",
       "      <td>0</td>\n",
       "      <td>BB</td>\n",
       "      <td>PRT</td>\n",
       "      <td>Online TA</td>\n",
       "      <td>TA/TO</td>\n",
       "      <td>...</td>\n",
       "      <td>No Deposit</td>\n",
       "      <td>240.0</td>\n",
       "      <td>0</td>\n",
       "      <td>Transient</td>\n",
       "      <td>107.00</td>\n",
       "      <td>0</td>\n",
       "      <td>2</td>\n",
       "      <td>5</td>\n",
       "      <td>53.500</td>\n",
       "      <td>No</td>\n",
       "    </tr>\n",
       "    <tr>\n",
       "      <th>2142</th>\n",
       "      <td>87</td>\n",
       "      <td>0</td>\n",
       "      <td>1</td>\n",
       "      <td>2</td>\n",
       "      <td>0.0</td>\n",
       "      <td>0</td>\n",
       "      <td>BB</td>\n",
       "      <td>PRT</td>\n",
       "      <td>Groups</td>\n",
       "      <td>TA/TO</td>\n",
       "      <td>...</td>\n",
       "      <td>Non Refund</td>\n",
       "      <td>96.0</td>\n",
       "      <td>0</td>\n",
       "      <td>Transient</td>\n",
       "      <td>36.05</td>\n",
       "      <td>0</td>\n",
       "      <td>0</td>\n",
       "      <td>1</td>\n",
       "      <td>18.025</td>\n",
       "      <td>No</td>\n",
       "    </tr>\n",
       "    <tr>\n",
       "      <th>...</th>\n",
       "      <td>...</td>\n",
       "      <td>...</td>\n",
       "      <td>...</td>\n",
       "      <td>...</td>\n",
       "      <td>...</td>\n",
       "      <td>...</td>\n",
       "      <td>...</td>\n",
       "      <td>...</td>\n",
       "      <td>...</td>\n",
       "      <td>...</td>\n",
       "      <td>...</td>\n",
       "      <td>...</td>\n",
       "      <td>...</td>\n",
       "      <td>...</td>\n",
       "      <td>...</td>\n",
       "      <td>...</td>\n",
       "      <td>...</td>\n",
       "      <td>...</td>\n",
       "      <td>...</td>\n",
       "      <td>...</td>\n",
       "      <td>...</td>\n",
       "    </tr>\n",
       "    <tr>\n",
       "      <th>2433</th>\n",
       "      <td>2</td>\n",
       "      <td>0</td>\n",
       "      <td>1</td>\n",
       "      <td>1</td>\n",
       "      <td>0.0</td>\n",
       "      <td>0</td>\n",
       "      <td>BB</td>\n",
       "      <td>NLD</td>\n",
       "      <td>Online TA</td>\n",
       "      <td>TA/TO</td>\n",
       "      <td>...</td>\n",
       "      <td>No Deposit</td>\n",
       "      <td>240.0</td>\n",
       "      <td>0</td>\n",
       "      <td>Transient-Party</td>\n",
       "      <td>42.30</td>\n",
       "      <td>1</td>\n",
       "      <td>1</td>\n",
       "      <td>1</td>\n",
       "      <td>42.300</td>\n",
       "      <td>No</td>\n",
       "    </tr>\n",
       "    <tr>\n",
       "      <th>2079</th>\n",
       "      <td>48</td>\n",
       "      <td>2</td>\n",
       "      <td>5</td>\n",
       "      <td>2</td>\n",
       "      <td>0.0</td>\n",
       "      <td>0</td>\n",
       "      <td>BB</td>\n",
       "      <td>IRL</td>\n",
       "      <td>Offline TA/TO</td>\n",
       "      <td>TA/TO</td>\n",
       "      <td>...</td>\n",
       "      <td>No Deposit</td>\n",
       "      <td>171.0</td>\n",
       "      <td>0</td>\n",
       "      <td>Transient</td>\n",
       "      <td>52.73</td>\n",
       "      <td>0</td>\n",
       "      <td>0</td>\n",
       "      <td>7</td>\n",
       "      <td>26.365</td>\n",
       "      <td>No</td>\n",
       "    </tr>\n",
       "    <tr>\n",
       "      <th>2999</th>\n",
       "      <td>6</td>\n",
       "      <td>0</td>\n",
       "      <td>1</td>\n",
       "      <td>1</td>\n",
       "      <td>0.0</td>\n",
       "      <td>0</td>\n",
       "      <td>BB</td>\n",
       "      <td>PRT</td>\n",
       "      <td>Offline TA/TO</td>\n",
       "      <td>TA/TO</td>\n",
       "      <td>...</td>\n",
       "      <td>No Deposit</td>\n",
       "      <td>96.0</td>\n",
       "      <td>0</td>\n",
       "      <td>Transient</td>\n",
       "      <td>37.00</td>\n",
       "      <td>1</td>\n",
       "      <td>0</td>\n",
       "      <td>1</td>\n",
       "      <td>37.000</td>\n",
       "      <td>No</td>\n",
       "    </tr>\n",
       "    <tr>\n",
       "      <th>2885</th>\n",
       "      <td>1</td>\n",
       "      <td>0</td>\n",
       "      <td>1</td>\n",
       "      <td>1</td>\n",
       "      <td>0.0</td>\n",
       "      <td>0</td>\n",
       "      <td>BB</td>\n",
       "      <td>PRT</td>\n",
       "      <td>Corporate</td>\n",
       "      <td>Corporate</td>\n",
       "      <td>...</td>\n",
       "      <td>No Deposit</td>\n",
       "      <td>0.0</td>\n",
       "      <td>0</td>\n",
       "      <td>Transient</td>\n",
       "      <td>35.00</td>\n",
       "      <td>0</td>\n",
       "      <td>0</td>\n",
       "      <td>1</td>\n",
       "      <td>35.000</td>\n",
       "      <td>No</td>\n",
       "    </tr>\n",
       "    <tr>\n",
       "      <th>2813</th>\n",
       "      <td>155</td>\n",
       "      <td>0</td>\n",
       "      <td>1</td>\n",
       "      <td>2</td>\n",
       "      <td>0.0</td>\n",
       "      <td>0</td>\n",
       "      <td>BB</td>\n",
       "      <td>PRT</td>\n",
       "      <td>Groups</td>\n",
       "      <td>Direct</td>\n",
       "      <td>...</td>\n",
       "      <td>Non Refund</td>\n",
       "      <td>0.0</td>\n",
       "      <td>0</td>\n",
       "      <td>Transient</td>\n",
       "      <td>36.00</td>\n",
       "      <td>0</td>\n",
       "      <td>0</td>\n",
       "      <td>1</td>\n",
       "      <td>18.000</td>\n",
       "      <td>No</td>\n",
       "    </tr>\n",
       "  </tbody>\n",
       "</table>\n",
       "<p>2400 rows × 24 columns</p>\n",
       "</div>"
      ],
      "text/plain": [
       "      lead_time  stays_in_weekend_nights  stays_in_week_nights  adults  \\\n",
       "235          44                        0                     3       2   \n",
       "1627         47                        2                     4       2   \n",
       "1572          4                        2                     2       2   \n",
       "1767        120                        2                     3       2   \n",
       "2142         87                        0                     1       2   \n",
       "...         ...                      ...                   ...     ...   \n",
       "2433          2                        0                     1       1   \n",
       "2079         48                        2                     5       2   \n",
       "2999          6                        0                     1       1   \n",
       "2885          1                        0                     1       1   \n",
       "2813        155                        0                     1       2   \n",
       "\n",
       "      children  babies meal country market_segment distribution_channel  ...  \\\n",
       "235        2.0       0   BB     PRT      Online TA                TA/TO  ...   \n",
       "1627       0.0       0   BB     GBR  Offline TA/TO                TA/TO  ...   \n",
       "1572       0.0       0   HB     PRT      Online TA                TA/TO  ...   \n",
       "1767       0.0       0   BB     PRT      Online TA                TA/TO  ...   \n",
       "2142       0.0       0   BB     PRT         Groups                TA/TO  ...   \n",
       "...        ...     ...  ...     ...            ...                  ...  ...   \n",
       "2433       0.0       0   BB     NLD      Online TA                TA/TO  ...   \n",
       "2079       0.0       0   BB     IRL  Offline TA/TO                TA/TO  ...   \n",
       "2999       0.0       0   BB     PRT  Offline TA/TO                TA/TO  ...   \n",
       "2885       0.0       0   BB     PRT      Corporate            Corporate  ...   \n",
       "2813       0.0       0   BB     PRT         Groups               Direct  ...   \n",
       "\n",
       "      deposit_type  agent  days_in_waiting_list    customer_type     adr  \\\n",
       "235     No Deposit  240.0                     0        Transient  153.00   \n",
       "1627    No Deposit    8.0                     0         Contract   79.50   \n",
       "1572    No Deposit  240.0                     0        Transient  151.25   \n",
       "1767    No Deposit  240.0                     0        Transient  107.00   \n",
       "2142    Non Refund   96.0                     0        Transient   36.05   \n",
       "...            ...    ...                   ...              ...     ...   \n",
       "2433    No Deposit  240.0                     0  Transient-Party   42.30   \n",
       "2079    No Deposit  171.0                     0        Transient   52.73   \n",
       "2999    No Deposit   96.0                     0        Transient   37.00   \n",
       "2885    No Deposit    0.0                     0        Transient   35.00   \n",
       "2813    Non Refund    0.0                     0        Transient   36.00   \n",
       "\n",
       "      required_car_parking_spaces  total_of_special_requests stay_total  \\\n",
       "235                             0                          0          3   \n",
       "1627                            0                          0          6   \n",
       "1572                            0                          2          4   \n",
       "1767                            0                          2          5   \n",
       "2142                            0                          0          1   \n",
       "...                           ...                        ...        ...   \n",
       "2433                            1                          1          1   \n",
       "2079                            0                          0          7   \n",
       "2999                            1                          0          1   \n",
       "2885                            0                          0          1   \n",
       "2813                            0                          0          1   \n",
       "\n",
       "      adr_person  room_difference  \n",
       "235       38.250               No  \n",
       "1627      39.750               No  \n",
       "1572      75.625               No  \n",
       "1767      53.500               No  \n",
       "2142      18.025               No  \n",
       "...          ...              ...  \n",
       "2433      42.300               No  \n",
       "2079      26.365               No  \n",
       "2999      37.000               No  \n",
       "2885      35.000               No  \n",
       "2813      18.000               No  \n",
       "\n",
       "[2400 rows x 24 columns]"
      ]
     },
     "execution_count": 188,
     "metadata": {},
     "output_type": "execute_result"
    }
   ],
   "source": [
    "X_train"
   ]
  },
  {
   "cell_type": "code",
   "execution_count": 213,
   "metadata": {
    "ExecuteTime": {
     "end_time": "2020-06-12T09:53:22.008881Z",
     "start_time": "2020-06-12T09:53:21.995889Z"
    }
   },
   "outputs": [],
   "source": [
    "preprocessor = ColumnTransformer([\n",
    "    ('numeric', num_pipe(scaling='robust'), ['lead_time', 'stays_in_weekend_nights', 'stays_in_week_nights',\n",
    "       'adults', 'children', 'babies', 'previous_cancellations',\n",
    "       'previous_bookings_not_canceled', 'booking_changes',\n",
    "       'days_in_waiting_list', 'adr', 'required_car_parking_spaces',\n",
    "       'total_of_special_requests', 'stay_total']),\n",
    "    ('categoric', cat_pipe(encoder='onehot'), ['meal','country','market_segment','distribution_channel','is_repeated_guest','deposit_type',\n",
    "                                              'agent','customer_type','room_difference']),\n",
    "])"
   ]
  },
  {
   "cell_type": "markdown",
   "metadata": {},
   "source": [
    "data dibagi menjadi dua kategori yaitu numerical dan kategorikal. Data numerikal dimasukkan ke pipeline numerik dan di scaling menggunakan robust, sedangkan data kategorikal dilabel menggunakan one hot encoder"
   ]
  },
  {
   "cell_type": "markdown",
   "metadata": {},
   "source": [
    "saya akan menggunakan 2 method, logistic regression dan random forest classification dengan hyper parameter tuning random search"
   ]
  },
  {
   "cell_type": "code",
   "execution_count": 237,
   "metadata": {
    "ExecuteTime": {
     "end_time": "2020-06-12T10:09:53.677230Z",
     "start_time": "2020-06-12T10:09:52.150067Z"
    }
   },
   "outputs": [
    {
     "name": "stdout",
     "output_type": "stream",
     "text": [
      "Fitting 3 folds for each of 3 candidates, totalling 9 fits\n"
     ]
    },
    {
     "name": "stderr",
     "output_type": "stream",
     "text": [
      "[Parallel(n_jobs=-1)]: Using backend LokyBackend with 4 concurrent workers.\n",
      "[Parallel(n_jobs=-1)]: Done   9 out of   9 | elapsed:    1.0s finished\n"
     ]
    },
    {
     "name": "stdout",
     "output_type": "stream",
     "text": [
      "{'algo__fit_intercept': False, 'algo__C': 100.0}\n",
      "0.8770833333333333 0.8708333333333332 0.8833333333333333\n",
      "              precision    recall  f1-score   support\n",
      "\n",
      "           0       0.91      0.95      0.93       371\n",
      "           1       0.91      0.84      0.87       229\n",
      "\n",
      "    accuracy                           0.91       600\n",
      "   macro avg       0.91      0.89      0.90       600\n",
      "weighted avg       0.91      0.91      0.91       600\n",
      "\n"
     ]
    }
   ],
   "source": [
    "from sklearn.linear_model import LogisticRegression\n",
    "pipeline_logreg = Pipeline([\n",
    "    ('prep', preprocessor),\n",
    "    ('algo', LogisticRegression(solver='lbfgs', n_jobs=-1, random_state=42))\n",
    "])\n",
    "\n",
    "from sklearn.model_selection import RandomizedSearchCV\n",
    "model1 = RandomizedSearchCV(pipeline_logreg, gsp.logreg_params, cv=3, n_iter=3, n_jobs=-1, verbose=1, random_state=42)\n",
    "model1.fit(X_train, y_train)\n",
    "\n",
    "print(model1.best_params_)\n",
    "print(model1.score(X_train, y_train), model1.best_score_, model1.score(X_test, y_test))\n",
    "\n",
    "y_pred_logreg = model.predict(X_test)\n",
    "\n",
    "from sklearn.metrics import classification_report, confusion_matrix\n",
    "print(classification_report(y_pred_logreg, y_test))"
   ]
  },
  {
   "cell_type": "code",
   "execution_count": 238,
   "metadata": {
    "ExecuteTime": {
     "end_time": "2020-06-12T10:10:08.253835Z",
     "start_time": "2020-06-12T10:10:01.204575Z"
    }
   },
   "outputs": [
    {
     "name": "stdout",
     "output_type": "stream",
     "text": [
      "Fitting 3 folds for each of 3 candidates, totalling 9 fits\n"
     ]
    },
    {
     "name": "stderr",
     "output_type": "stream",
     "text": [
      "[Parallel(n_jobs=-1)]: Using backend LokyBackend with 4 concurrent workers.\n",
      "[Parallel(n_jobs=-1)]: Done   9 out of   9 | elapsed:    5.5s finished\n"
     ]
    },
    {
     "name": "stdout",
     "output_type": "stream",
     "text": [
      "{'algo__n_estimators': 100, 'algo__min_samples_leaf': 1, 'algo__max_features': 0.3, 'algo__max_depth': 20}\n",
      "0.9870833333333333 0.8904166666666665 0.9016666666666666\n",
      "              precision    recall  f1-score   support\n",
      "\n",
      "           0       0.90      0.94      0.92       370\n",
      "           1       0.90      0.83      0.87       230\n",
      "\n",
      "    accuracy                           0.90       600\n",
      "   macro avg       0.90      0.89      0.89       600\n",
      "weighted avg       0.90      0.90      0.90       600\n",
      "\n"
     ]
    }
   ],
   "source": [
    "from sklearn.ensemble import RandomForestClassifier\n",
    "pipeline_rf = Pipeline([\n",
    "    ('prep', preprocessor),\n",
    "    ('algo', RandomForestClassifier(n_jobs=-1, random_state=42))\n",
    "])\n",
    "\n",
    "model2 = RandomizedSearchCV(pipeline_rf, gsp.rf_params, cv=3, n_iter=3, n_jobs=-1, verbose=1, random_state=42)\n",
    "model2.fit(X_train, y_train)\n",
    "\n",
    "print(model2.best_params_)\n",
    "print(model2.score(X_train, y_train), model2.best_score_, model2.score(X_test, y_test))\n",
    "\n",
    "y_pred_rf = model2.predict(X_test)\n",
    "\n",
    "from sklearn.metrics import classification_report, confusion_matrix\n",
    "print(classification_report(y_pred_rf, y_test))"
   ]
  },
  {
   "cell_type": "markdown",
   "metadata": {},
   "source": [
    "# Improve Model based on Benchmark Model"
   ]
  },
  {
   "cell_type": "markdown",
   "metadata": {},
   "source": [
    "## Feature Importance Model LR"
   ]
  },
  {
   "cell_type": "code",
   "execution_count": 231,
   "metadata": {
    "ExecuteTime": {
     "end_time": "2020-06-12T10:03:59.579551Z",
     "start_time": "2020-06-12T10:03:56.879063Z"
    }
   },
   "outputs": [
    {
     "data": {
      "image/png": "[encoded data removed]",
      "text/plain": [
       "<Figure size 1080x360 with 1 Axes>"
      ]
     },
     "metadata": {},
     "output_type": "display_data"
    }
   ],
   "source": [
    "df_imp = mean_score_decrease(X_train, y_train, model1, plot=True, topk=10)"
   ]
  },
  {
   "cell_type": "markdown",
   "metadata": {},
   "source": [
    "## Feature Importance Model RF"
   ]
  },
  {
   "cell_type": "code",
   "execution_count": 232,
   "metadata": {
    "ExecuteTime": {
     "end_time": "2020-06-12T10:04:44.920184Z",
     "start_time": "2020-06-12T10:04:28.755860Z"
    }
   },
   "outputs": [
    {
     "data": {
      "image/png": "[encoded data removed]",
      "text/plain": [
       "<Figure size 1080x360 with 1 Axes>"
      ]
     },
     "metadata": {},
     "output_type": "display_data"
    }
   ],
   "source": [
    "df_imp = mean_score_decrease(X_train, y_train, model2, plot=True, topk=10)"
   ]
  },
  {
   "cell_type": "markdown",
   "metadata": {},
   "source": [
    "saya akan menggunakan feature importance pada model RF saja untuk melihat perubahan hasil model, saya menggunakan top 10 feature importance"
   ]
  },
  {
   "cell_type": "code",
   "execution_count": 242,
   "metadata": {
    "ExecuteTime": {
     "end_time": "2020-06-12T10:11:33.412691Z",
     "start_time": "2020-06-12T10:11:33.403696Z"
    }
   },
   "outputs": [],
   "source": [
    "preprocessor = ColumnTransformer([\n",
    "    ('numeric', num_pipe(scaling='robust'), ['lead_time',\n",
    "        'adr', 'required_car_parking_spaces',\n",
    "       'total_of_special_requests', 'stay_total']),\n",
    "    ('categoric', cat_pipe(encoder='onehot'), ['country','market_segment','deposit_type',\n",
    "                                              'agent','room_difference']),\n",
    "])"
   ]
  },
  {
   "cell_type": "code",
   "execution_count": 240,
   "metadata": {
    "ExecuteTime": {
     "end_time": "2020-06-12T10:10:40.006039Z",
     "start_time": "2020-06-12T10:10:32.631394Z"
    }
   },
   "outputs": [
    {
     "name": "stdout",
     "output_type": "stream",
     "text": [
      "Fitting 3 folds for each of 3 candidates, totalling 9 fits\n"
     ]
    },
    {
     "name": "stderr",
     "output_type": "stream",
     "text": [
      "[Parallel(n_jobs=-1)]: Using backend LokyBackend with 4 concurrent workers.\n",
      "[Parallel(n_jobs=-1)]: Done   9 out of   9 | elapsed:    5.9s finished\n"
     ]
    },
    {
     "name": "stdout",
     "output_type": "stream",
     "text": [
      "{'algo__n_estimators': 100, 'algo__min_samples_leaf': 1, 'algo__max_features': 0.3, 'algo__max_depth': 20}\n",
      "0.9870833333333333 0.8904166666666665 0.9016666666666666\n"
     ]
    }
   ],
   "source": [
    "from sklearn.ensemble import RandomForestClassifier\n",
    "pipeline_rf = Pipeline([\n",
    "    ('prep', preprocessor),\n",
    "    ('algo', RandomForestClassifier(n_jobs=-1, random_state=42))\n",
    "])\n",
    "\n",
    "model2 = RandomizedSearchCV(pipeline_rf, gsp.rf_params, cv=3, n_iter=3, n_jobs=-1, verbose=1, random_state=42)\n",
    "model2.fit(X_train, y_train)\n",
    "\n",
    "print(model2.best_params_)\n",
    "print(model2.score(X_train, y_train), model2.best_score_, model2.score(X_test, y_test))\n",
    "\n",
    "y_pred_rf = model2.predict(X_test)\n",
    "\n",
    "from sklearn.metrics import classification_report, confusion_matrix\n",
    "print(classification_report(y_pred_rf, y_test))"
   ]
  },
  {
   "cell_type": "markdown",
   "metadata": {},
   "source": [
    "## Kesimpulan"
   ]
  },
  {
   "cell_type": "markdown",
   "metadata": {},
   "source": [
    "Dari hasil pemodelan, untuk predict 0 dan actuall 0 berarti itu True Negatif. Dan predict 1 actual 1 adalah True Positive.\n",
    "Yang bahaya untuk perusahaan adalah mesin mempredik keduanya salah, dimana mesin prediksi cancel padahal tidak (hotel mengira customer cancel sehingga room diberikan ke orang lain) dan prediksi tidak cancel padahal cancel (orang lain tidak dapat room )"
   ]
  }
 ],
 "metadata": {
  "kernelspec": {
   "display_name": "Python 3",
   "language": "python",
   "name": "python3"
  },
  "language_info": {
   "codemirror_mode": {
    "name": "ipython",
    "version": 3
   },
   "file_extension": ".py",
   "mimetype": "text/x-python",
   "name": "python",
   "nbconvert_exporter": "python",
   "pygments_lexer": "ipython3",
   "version": "3.7.7"
  }
 },
 "nbformat": 4,
 "nbformat_minor": 4
}
